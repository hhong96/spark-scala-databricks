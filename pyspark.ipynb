{
 "cells": [
  {
   "cell_type": "code",
   "execution_count": null,
   "metadata": {},
   "outputs": [],
   "source": [
    "import pyspark\n",
    "from pyspark.sql import SQLContext\n",
    "from pyspark.sql.functions import hour, when, col, date_format, to_timestamp\n",
    "from pyspark.sql.functions import *"
   ]
  },
  {
   "cell_type": "code",
   "execution_count": null,
   "metadata": {},
   "outputs": [],
   "source": [
    "sc = pyspark.SparkContext(appName=\"HW3-Q1\")\n",
    "sqlContext = SQLContext(sc) "
   ]
  },
  {
   "cell_type": "code",
   "execution_count": null,
   "metadata": {},
   "outputs": [],
   "source": [
    "def load_data():\n",
    "    df = sqlContext.read.option(\"header\",True).csv(\"yellow_tripdata_2019-01_short.csv\")\n",
    "    return df"
   ]
  },
  {
   "cell_type": "code",
   "execution_count": null,
   "metadata": {},
   "outputs": [],
   "source": [
    "df = load_data()\n",
    "# df.printSchema()"
   ]
  },
  {
   "cell_type": "code",
   "execution_count": null,
   "metadata": {},
   "outputs": [],
   "source": [
    "def clean_data(df):\n",
    "    '''\n",
    "    input: df a dataframe\n",
    "    output: df a dataframe with the all the original columns\n",
    "    '''\n",
    "    \n",
    "    df = df.withColumn(\"passenger_count\", df[\"passenger_count\"].cast(\"Int\").alias(\"passenger_count\"))\n",
    "    df = df.withColumn(\"total_amount\", df[\"total_amount\"].cast(\"float\").alias(\"total_amount\"))\n",
    "    df = df.withColumn(\"tip_amount\", df[\"tip_amount\"].cast(\"float\").alias(\"tip_amount\"))\n",
    "    df = df.withColumn(\"trip_distance\", df[\"trip_distance\"].cast(\"float\").alias(\"trip_distance\"))\n",
    "    df = df.withColumn(\"fare_amount\", df[\"fare_amount\"].cast(\"float\").alias(\"fare_amount\"))\n",
    "    df = df.withColumn(\"tpep_pickup_datetime\", df[\"tpep_pickup_datetime\"].cast(\"timestamp\").alias(\"tpep_pickup_datetime\"))\n",
    "    df = df.withColumn(\"tpep_dropoff_datetime\", df[\"tpep_dropoff_datetime\"].cast(\"timestamp\").alias(\"tpep_dropoff_datetime\"))\n",
    "                \n",
    "    return df"
   ]
  },
  {
   "cell_type": "code",
   "execution_count": null,
   "metadata": {},
   "outputs": [],
   "source": [
    "df = clean_data(df)\n",
    "# df.select(['passenger_count', 'total_amount', 'tip_amount', 'trip_distance', 'fare_amount', 'tpep_pickup_datetime', 'tpep_pickup_datetime']).printSchema()"
   ]
  },
  {
   "cell_type": "code",
   "execution_count": null,
   "metadata": {},
   "outputs": [],
   "source": [
    "def common_pair(df):\n",
    "    '''\n",
    "    input: df a dataframe\n",
    "    output: df a dataframe with following columns:\n",
    "            - PULocationID\n",
    "            - DOLocationID\n",
    "            - count\n",
    "            - trip_rate\n",
    "            \n",
    "    trip_rate is the average amount (total_amount) per distance (trip_distance)\n",
    "    \n",
    "    '''\n",
    "    \n",
    "    sql = \"\"\"\n",
    "    select \n",
    "        PULocationID, DOLocationID, count(*) as count, sum(total_amount)/sum(trip_distance) as trip_rate\n",
    "    from \n",
    "        df\n",
    "    group by \n",
    "        PULocationID, DOLocationID\n",
    "    order by\n",
    "        count(*) desc,\n",
    "        sum(total_amount)/sum(trip_distance) desc\n",
    "    limit 10\n",
    "    \"\"\"\n",
    "    \n",
    "    sqlContext.registerDataFrameAsTable(df, \"df\")\n",
    "    df = sqlContext.sql(sql)\n",
    "    \n",
    "    \n",
    "    return df"
   ]
  },
  {
   "cell_type": "code",
   "execution_count": null,
   "metadata": {},
   "outputs": [],
   "source": [
    "def time_of_cheapest_fare(df):\n",
    "    '''\n",
    "    input: df a dataframe\n",
    "    output: df a dataframe with following columns:export \n",
    "            - day_night\n",
    "            - trip_rate\n",
    "    \n",
    "    day_night will have 'Day' or 'Night' based on following conditions:\n",
    "        - From 9am to 8:59:59pm - Day\n",
    "        - From 9pm to 8:59:59am - Night\n",
    "            \n",
    "    trip_rate is the average amount (total_amount) per distance\n",
    "    \n",
    "    '''\n",
    "    \n",
    "    sql = \"\"\"\n",
    "    with a as\n",
    "    (\n",
    "        select \n",
    "        case when substring(tpep_dropoff_datetime, 12, 2) between 9 and 21 then 'Day' else 'Night' end as day_night, \n",
    "        total_amount,\n",
    "        trip_distance\n",
    "        \n",
    "        from df\n",
    "        \n",
    "        )\n",
    "    select \n",
    "        day_night,\n",
    "        avg(total_amount)/avg(trip_distance) as trip_rate\n",
    "    from \n",
    "        a\n",
    "    group by \n",
    "        day_night\n",
    "    order by\n",
    "        avg(total_amount)/avg(trip_distance)\n",
    "    \"\"\"\n",
    "    \n",
    "    sqlContext.registerDataFrameAsTable(df, \"df\")\n",
    "    df = sqlContext.sql(sql)\n",
    "    \n",
    "    \n",
    "    return df"
   ]
  },
  {
   "cell_type": "code",
   "execution_count": null,
   "metadata": {},
   "outputs": [],
   "source": [
    "# time_of_cheapest_fare(df).show()"
   ]
  },
  {
   "cell_type": "code",
   "execution_count": null,
   "metadata": {},
   "outputs": [],
   "source": [
    "def passenger_count_for_most_tip(df):\n",
    "    '''\n",
    "    input: df a dataframe\n",
    "    output: df a dataframe with following columns:\n",
    "            - passenger_count\n",
    "            - tip_percent\n",
    "            \n",
    "    trip_percent is the percent of tip out of fare_amount\n",
    "    \n",
    "    '''\n",
    "    sql = \"\"\"\n",
    "    with a as (\n",
    "    select \n",
    "        passenger_count,\n",
    "        avg(fare_amount) as fare_amount,\n",
    "        avg(tip_amount) as tip_amount\n",
    "    from \n",
    "        df\n",
    "    where\n",
    "        fare_amount > 2\n",
    "        and passenger_count > 0\n",
    "    group by \n",
    "        passenger_count)\n",
    "        \n",
    "    select\n",
    "        passenger_count,\n",
    "        tip_amount * 100 / fare_amount as tip_percent\n",
    "    from a\n",
    "    order by \n",
    "        tip_amount * 100 / fare_amount desc;\n",
    "    \"\"\"\n",
    "    \n",
    "    sqlContext.registerDataFrameAsTable(df, \"df\")\n",
    "    df = sqlContext.sql(sql)    \n",
    "\n",
    "    \n",
    "    return df"
   ]
  },
  {
   "cell_type": "code",
   "execution_count": null,
   "metadata": {},
   "outputs": [],
   "source": [
    "def day_with_traffic(df):\n",
    "    '''\n",
    "    input: df a dataframe\n",
    "    output: df a dataframe with following columns:\n",
    "            - day_of_week\n",
    "            - average_speed\n",
    "    \n",
    "    day_of_week should be day of week e.g.) Mon, Tue, Wed, ...\n",
    "    average_speed (miles/hour) is calculated as distance / time (in hours)\n",
    "    '''\n",
    "    sql = \"\"\"\n",
    "    with a as\n",
    "    (\n",
    "    select \n",
    "        substring(date_format(tpep_pickup_datetime, 'EEEE'), 1, 3) as day_of_week,\n",
    "        trip_distance,\n",
    "        ((cast(tpep_dropoff_datetime as long) - cast(tpep_pickup_datetime as long))/3600) as hour\n",
    "    from \n",
    "        df\n",
    "    ),\n",
    "    \n",
    "    b as\n",
    "    (\n",
    "    select\n",
    "        day_of_week,\n",
    "        avg(hour) as hour\n",
    "    from\n",
    "        a\n",
    "    group by\n",
    "        day_of_week\n",
    "    ),\n",
    "    c as\n",
    "    (\n",
    "    select\n",
    "        day_of_week,\n",
    "        avg(trip_distance) as trip_distance\n",
    "    from\n",
    "        a\n",
    "    group by\n",
    "        day_of_week\n",
    "    )\n",
    "    \n",
    "    select \n",
    "        b.day_of_week,\n",
    "        c.trip_distance/b.hour as average_speed\n",
    "    from \n",
    "        b\n",
    "    left join c on b.day_of_week = c.day_of_week\n",
    "    order by\n",
    "        c.trip_distance/b.hour,\n",
    "        b.day_of_week\n",
    "    \"\"\"\n",
    "    \n",
    "    sqlContext.registerDataFrameAsTable(df, \"df\")\n",
    "    df = sqlContext.sql(sql)\n",
    "    \n",
    "    \n",
    "    return df"
   ]
  },
  {
   "cell_type": "code",
   "execution_count": null,
   "metadata": {},
   "outputs": [],
   "source": [
    "# day_with_traffic(df).show()\n",
    "df.select(['*'])"
   ]
  }
 ],
 "metadata": {
  "kernelspec": {
   "display_name": "Python 3",
   "language": "python",
   "name": "python3"
  },
  "language_info": {
   "codemirror_mode": {
    "name": "ipython",
    "version": 3
   },
   "file_extension": ".py",
   "mimetype": "text/x-python",
   "name": "python",
   "nbconvert_exporter": "python",
   "pygments_lexer": "ipython3",
   "version": "3.9.12"
  },
  "vscode": {
   "interpreter": {
    "hash": "371d40af55f79b8e9532eb62fd32b117c2d0154894481c7364e2f05cf6a6ed51"
   }
  }
 },
 "nbformat": 4,
 "nbformat_minor": 2
}
