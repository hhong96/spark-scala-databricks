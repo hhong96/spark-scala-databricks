{
 "cells": [
  {
   "cell_type": "code",
   "execution_count": 326,
   "metadata": {
    "execution": {
     "iopub.execute_input": "2022-10-31T06:32:33.993852Z",
     "iopub.status.busy": "2022-10-31T06:32:33.993618Z",
     "iopub.status.idle": "2022-10-31T06:32:34.049750Z",
     "shell.execute_reply": "2022-10-31T06:32:34.049059Z",
     "shell.execute_reply.started": "2022-10-31T06:32:33.993824Z"
    },
    "tags": []
   },
   "outputs": [
    {
     "data": {
      "application/vnd.jupyter.widget-view+json": {
       "model_id": "5b2e5a0f9ae149a986ab7d05977efc78",
       "version_major": 2,
       "version_minor": 0
      },
      "text/plain": [
       "VBox()"
      ]
     },
     "metadata": {},
     "output_type": "display_data"
    },
    {
     "data": {
      "application/vnd.jupyter.widget-view+json": {
       "model_id": "",
       "version_major": 2,
       "version_minor": 0
      },
      "text/plain": [
       "FloatProgress(value=0.0, bar_style='info', description='Progress:', layout=Layout(height='25px', width='50%'),…"
      ]
     },
     "metadata": {},
     "output_type": "display_data"
    },
    {
     "name": "stdout",
     "output_type": "stream",
     "text": [
      "<SparkContext master=yarn appName=livy-session-0>"
     ]
    }
   ],
   "source": [
    "sc"
   ]
  },
  {
   "cell_type": "code",
   "execution_count": 327,
   "metadata": {
    "execution": {
     "iopub.execute_input": "2022-10-31T06:32:34.235622Z",
     "iopub.status.busy": "2022-10-31T06:32:34.235365Z",
     "iopub.status.idle": "2022-10-31T06:32:34.298570Z",
     "shell.execute_reply": "2022-10-31T06:32:34.291519Z",
     "shell.execute_reply.started": "2022-10-31T06:32:34.235593Z"
    },
    "tags": []
   },
   "outputs": [
    {
     "data": {
      "application/vnd.jupyter.widget-view+json": {
       "model_id": "cd3ed0b2eb1f46b8b7c62e41eb282da6",
       "version_major": 2,
       "version_minor": 0
      },
      "text/plain": [
       "VBox()"
      ]
     },
     "metadata": {},
     "output_type": "display_data"
    },
    {
     "data": {
      "application/vnd.jupyter.widget-view+json": {
       "model_id": "",
       "version_major": 2,
       "version_minor": 0
      },
      "text/plain": [
       "FloatProgress(value=0.0, bar_style='info', description='Progress:', layout=Layout(height='25px', width='50%'),…"
      ]
     },
     "metadata": {},
     "output_type": "display_data"
    }
   ],
   "source": [
    "#export\n",
    "from pyspark.sql.functions import col\n",
    "from pyspark.sql import *"
   ]
  },
  {
   "cell_type": "code",
   "execution_count": 328,
   "metadata": {
    "execution": {
     "iopub.execute_input": "2022-10-31T06:32:34.347597Z",
     "iopub.status.busy": "2022-10-31T06:32:34.347338Z",
     "iopub.status.idle": "2022-10-31T06:32:34.412236Z",
     "shell.execute_reply": "2022-10-31T06:32:34.411184Z",
     "shell.execute_reply.started": "2022-10-31T06:32:34.347547Z"
    },
    "tags": []
   },
   "outputs": [
    {
     "data": {
      "application/vnd.jupyter.widget-view+json": {
       "model_id": "6267570477724266976cd78f15954fb4",
       "version_major": 2,
       "version_minor": 0
      },
      "text/plain": [
       "VBox()"
      ]
     },
     "metadata": {},
     "output_type": "display_data"
    },
    {
     "data": {
      "application/vnd.jupyter.widget-view+json": {
       "model_id": "",
       "version_major": 2,
       "version_minor": 0
      },
      "text/plain": [
       "FloatProgress(value=0.0, bar_style='info', description='Progress:', layout=Layout(height='25px', width='50%'),…"
      ]
     },
     "metadata": {},
     "output_type": "display_data"
    }
   ],
   "source": [
    "#### DO NOT CHANGE ANYTHING IN THIS CELL ####\n",
    "\n",
    "def load_data(size='small'):\n",
    "    # Loads the data for this question. Do not change this function.\n",
    "    # This function should only be called with the parameter 'small' or 'large'\n",
    "    \n",
    "    if size != 'small' and size != 'large':\n",
    "        print(\"Invalid size parameter provided. Use only 'small' or 'large'.\")\n",
    "        return\n",
    "    \n",
    "    input_bucket = \"s3://nyc-taxi-trip\"\n",
    "    \n",
    "    # Load Trip Data\n",
    "    trip_path = '/'+size+'/yellow_tripdata*'\n",
    "    trips = spark.read.csv(input_bucket + trip_path, header=True, inferSchema=True)\n",
    "    print(\"Trip Count: \",trips.count()) # Prints # of trips (# of records, as each record is one trip)\n",
    "    \n",
    "    # Load Lookup Data\n",
    "    lookup_path = '/'+size+'/taxi*'\n",
    "    lookup = spark.read.csv(input_bucket + lookup_path, header=True, inferSchema=True)\n",
    "    \n",
    "    return trips, lookup\n",
    "\n",
    "def main(size, bucket):\n",
    "    # Runs your functions implemented above.\n",
    "    \n",
    "    print(user())\n",
    "    trips, lookup = load_data(size=size)\n",
    "    trips = long_trips(trips)\n",
    "    mtrips = manhattan_trips(trips, lookup)\n",
    "    wp = weighted_profit(trips, mtrips)\n",
    "    final = final_output(wp, lookup)\n",
    "    \n",
    "    # Outputs the results for you to visually see\n",
    "    final.show()\n",
    "    \n",
    "    # Writes out as a CSV to your bucket.\n",
    "    final.write.csv(bucket)"
   ]
  },
  {
   "cell_type": "code",
   "execution_count": 330,
   "metadata": {
    "execution": {
     "iopub.execute_input": "2022-10-31T06:32:35.024729Z",
     "iopub.status.busy": "2022-10-31T06:32:35.024484Z",
     "iopub.status.idle": "2022-10-31T06:32:35.072714Z",
     "shell.execute_reply": "2022-10-31T06:32:35.072123Z",
     "shell.execute_reply.started": "2022-10-31T06:32:35.024696Z"
    },
    "tags": []
   },
   "outputs": [
    {
     "data": {
      "application/vnd.jupyter.widget-view+json": {
       "model_id": "8fd12772c3114352b400cc386a9da4b7",
       "version_major": 2,
       "version_minor": 0
      },
      "text/plain": [
       "VBox()"
      ]
     },
     "metadata": {},
     "output_type": "display_data"
    },
    {
     "data": {
      "application/vnd.jupyter.widget-view+json": {
       "model_id": "",
       "version_major": 2,
       "version_minor": 0
      },
      "text/plain": [
       "FloatProgress(value=0.0, bar_style='info', description='Progress:', layout=Layout(height='25px', width='50%'),…"
      ]
     },
     "metadata": {},
     "output_type": "display_data"
    }
   ],
   "source": [
    "#export\n",
    "def long_trips(trips):\n",
    "    # Returns a Dataframe (trips) with Schema the same as :trips:\n",
    "    \n",
    "    trips = trips.filter(col(\"trip_distance\") >= 2)\n",
    "    return trips"
   ]
  },
  {
   "cell_type": "code",
   "execution_count": 331,
   "metadata": {
    "execution": {
     "iopub.execute_input": "2022-10-31T06:32:35.285561Z",
     "iopub.status.busy": "2022-10-31T06:32:35.285325Z",
     "iopub.status.idle": "2022-10-31T06:32:35.340505Z",
     "shell.execute_reply": "2022-10-31T06:32:35.337732Z",
     "shell.execute_reply.started": "2022-10-31T06:32:35.285535Z"
    },
    "tags": []
   },
   "outputs": [
    {
     "data": {
      "application/vnd.jupyter.widget-view+json": {
       "model_id": "c0108c6878d142b4926bc9d3820cc71e",
       "version_major": 2,
       "version_minor": 0
      },
      "text/plain": [
       "VBox()"
      ]
     },
     "metadata": {},
     "output_type": "display_data"
    },
    {
     "data": {
      "application/vnd.jupyter.widget-view+json": {
       "model_id": "",
       "version_major": 2,
       "version_minor": 0
      },
      "text/plain": [
       "FloatProgress(value=0.0, bar_style='info', description='Progress:', layout=Layout(height='25px', width='50%'),…"
      ]
     },
     "metadata": {},
     "output_type": "display_data"
    }
   ],
   "source": [
    "#export\n",
    "def manhattan_trips(trips, lookup):\n",
    "    # Returns a Dataframe (mtrips) with Schema: DOLocationID, pcount\n",
    "    \n",
    "    mtrips = trips.withColumn(\"passenger_count\", col(\"passenger_count\").cast(\"Int\")).join(lookup, [trips.DOLocationID == lookup.LocationID]).filter(lookup.Borough == \"Manhattan\").groupBy(\"DOLocationID\").sum(\"passenger_count\") \\\n",
    "                    .orderBy(col(\"sum(passenger_count)\").desc()).select(\"DOLocationID\", col(\"sum(passenger_count)\").alias(\"pcount\")).limit(20)\n",
    "    \n",
    "    return mtrips"
   ]
  },
  {
   "cell_type": "code",
   "execution_count": 332,
   "metadata": {
    "execution": {
     "iopub.execute_input": "2022-10-31T06:32:35.552548Z",
     "iopub.status.busy": "2022-10-31T06:32:35.552311Z",
     "iopub.status.idle": "2022-10-31T06:32:35.610500Z",
     "shell.execute_reply": "2022-10-31T06:32:35.609690Z",
     "shell.execute_reply.started": "2022-10-31T06:32:35.552522Z"
    },
    "tags": []
   },
   "outputs": [
    {
     "data": {
      "application/vnd.jupyter.widget-view+json": {
       "model_id": "5a9804815ecf4621816fc0c72793bdde",
       "version_major": 2,
       "version_minor": 0
      },
      "text/plain": [
       "VBox()"
      ]
     },
     "metadata": {},
     "output_type": "display_data"
    },
    {
     "data": {
      "application/vnd.jupyter.widget-view+json": {
       "model_id": "",
       "version_major": 2,
       "version_minor": 0
      },
      "text/plain": [
       "FloatProgress(value=0.0, bar_style='info', description='Progress:', layout=Layout(height='25px', width='50%'),…"
      ]
     },
     "metadata": {},
     "output_type": "display_data"
    }
   ],
   "source": [
    "#export\n",
    "def weighted_profit(trips, mtrips): \n",
    "    # Returns a Dataframe (wp) with Schema: PULocationID, weighted_profit\n",
    "    # Note: Use decimal datatype for weighted profit (NOTE: DON'T USE FLOAT)\n",
    "    # Our grader will be only be checking the first 8 characters for each value in the dataframe\n",
    "    \n",
    "    cnt_total_trips = trips.groupBy(\"PULocationID\").count().withColumn(\"cnt_total_trips\", col(\"count\")).select(\"PULocationID\", \"cnt_total_trips\")\n",
    "    avg_total_amount = trips.withColumn(\"total_amount\", col(\"total_amount\").cast(\"double\")).groupBy(\"PULocationID\").agg({\"total_amount\" : 'avg'}) \\\n",
    "                            .withColumn(\"avg_total_amount\", col(\"avg(total_amount)\").cast(\"decimal(38, 10)\")).select(\"PULocationID\", \"avg_total_amount\")\n",
    "    \n",
    "    wp = mtrips.join(trips, mtrips.DOLocationID == trips.DOLocationID).groupBy(col(\"PULocationID\")).count()\n",
    "    wp = wp.withColumn(\"cnt_top_trips\", col(\"count\")).join(cnt_total_trips, wp.PULocationID == cnt_total_trips.PULocationID, \"inner\").select(wp.PULocationID, col(\"cnt_top_trips\"), col(\"cnt_total_trips\"))\n",
    "    wp = wp.join(avg_total_amount, wp.PULocationID == avg_total_amount.PULocationID).select(wp.PULocationID, col(\"cnt_top_trips\"), col(\"cnt_total_trips\"), col(\"avg_total_amount\"))\n",
    "\n",
    "    wp = wp.withColumn(\"weighted_profit\", (col(\"avg_total_amount\")*(col(\"cnt_top_trips\")/col(\"cnt_total_trips\"))).cast(\"double\")).select(\"PULocationID\", col(\"weighted_profit\"))\n",
    "    \n",
    "    return wp"
   ]
  },
  {
   "cell_type": "code",
   "execution_count": 333,
   "metadata": {
    "execution": {
     "iopub.execute_input": "2022-10-31T06:32:35.814355Z",
     "iopub.status.busy": "2022-10-31T06:32:35.814125Z",
     "iopub.status.idle": "2022-10-31T06:32:35.873295Z",
     "shell.execute_reply": "2022-10-31T06:32:35.872737Z",
     "shell.execute_reply.started": "2022-10-31T06:32:35.814329Z"
    },
    "tags": []
   },
   "outputs": [
    {
     "data": {
      "application/vnd.jupyter.widget-view+json": {
       "model_id": "79ee5a7b0a494f22b9fcebee64151bb2",
       "version_major": 2,
       "version_minor": 0
      },
      "text/plain": [
       "VBox()"
      ]
     },
     "metadata": {},
     "output_type": "display_data"
    },
    {
     "data": {
      "application/vnd.jupyter.widget-view+json": {
       "model_id": "",
       "version_major": 2,
       "version_minor": 0
      },
      "text/plain": [
       "FloatProgress(value=0.0, bar_style='info', description='Progress:', layout=Layout(height='25px', width='50%'),…"
      ]
     },
     "metadata": {},
     "output_type": "display_data"
    }
   ],
   "source": [
    "#export\n",
    "def final_output(wp, lookup): \n",
    "    # Returns a Dataframe (final) with Schema: Zone, Borough, weighted_profit\n",
    "    # Note: Use decimal datatype for weighted profit (NOTE: DON'T USE FLOAT)\n",
    "    # Our grader will be only be checking the first 8 characters for each value in the dataframe\n",
    "    \n",
    "    final = wp.join(lookup, wp.PULocationID == lookup.LocationID).select(\"Zone\", \"Borough\", \"weighted_profit\").orderBy(wp.weighted_profit.desc()).limit(20)\n",
    "    \n",
    "    return final"
   ]
  },
  {
   "cell_type": "code",
   "execution_count": 334,
   "metadata": {
    "execution": {
     "iopub.execute_input": "2022-10-31T06:32:36.094677Z",
     "iopub.status.busy": "2022-10-31T06:32:36.094429Z",
     "iopub.status.idle": "2022-10-31T06:38:18.978576Z",
     "shell.execute_reply": "2022-10-31T06:38:18.977887Z",
     "shell.execute_reply.started": "2022-10-31T06:32:36.094650Z"
    },
    "tags": []
   },
   "outputs": [
    {
     "data": {
      "application/vnd.jupyter.widget-view+json": {
       "model_id": "f390377a885346b3b870691c1c8d445f",
       "version_major": 2,
       "version_minor": 0
      },
      "text/plain": [
       "VBox()"
      ]
     },
     "metadata": {},
     "output_type": "display_data"
    },
    {
     "data": {
      "application/vnd.jupyter.widget-view+json": {
       "model_id": "",
       "version_major": 2,
       "version_minor": 0
      },
      "text/plain": [
       "FloatProgress(value=0.0, bar_style='info', description='Progress:', layout=Layout(height='25px', width='50%'),…"
      ]
     },
     "metadata": {},
     "output_type": "display_data"
    },
    {
     "name": "stdout",
     "output_type": "stream",
     "text": [
      "Trip Count:  187203269"
     ]
    }
   ],
   "source": [
    "trips, lookup = load_data(size='large')"
   ]
  },
  {
   "cell_type": "code",
   "execution_count": 335,
   "metadata": {
    "execution": {
     "iopub.execute_input": "2022-10-31T06:38:18.979758Z",
     "iopub.status.busy": "2022-10-31T06:38:18.979541Z",
     "iopub.status.idle": "2022-10-31T06:38:19.236422Z",
     "shell.execute_reply": "2022-10-31T06:38:19.235833Z",
     "shell.execute_reply.started": "2022-10-31T06:38:18.979718Z"
    },
    "tags": []
   },
   "outputs": [
    {
     "data": {
      "application/vnd.jupyter.widget-view+json": {
       "model_id": "bbd8d72296a94b8bbbe56c8ce15e03f9",
       "version_major": 2,
       "version_minor": 0
      },
      "text/plain": [
       "VBox()"
      ]
     },
     "metadata": {},
     "output_type": "display_data"
    },
    {
     "data": {
      "application/vnd.jupyter.widget-view+json": {
       "model_id": "",
       "version_major": 2,
       "version_minor": 0
      },
      "text/plain": [
       "FloatProgress(value=0.0, bar_style='info', description='Progress:', layout=Layout(height='25px', width='50%'),…"
      ]
     },
     "metadata": {},
     "output_type": "display_data"
    }
   ],
   "source": [
    "trips = long_trips(trips)\n",
    "mtrips = manhattan_trips(trips, lookup)\n",
    "wp = weighted_profit(trips, mtrips)\n",
    "final = final_output(wp, lookup)"
   ]
  },
  {
   "cell_type": "code",
   "execution_count": 337,
   "metadata": {
    "execution": {
     "iopub.execute_input": "2022-10-31T06:42:45.387181Z",
     "iopub.status.busy": "2022-10-31T06:42:45.386946Z",
     "iopub.status.idle": "2022-10-31T06:43:02.722134Z",
     "shell.execute_reply": "2022-10-31T06:43:02.721406Z",
     "shell.execute_reply.started": "2022-10-31T06:42:45.387157Z"
    },
    "tags": []
   },
   "outputs": [
    {
     "data": {
      "application/vnd.jupyter.widget-view+json": {
       "model_id": "ce40d222da824b0d93861fbd5ef8bd43",
       "version_major": 2,
       "version_minor": 0
      },
      "text/plain": [
       "VBox()"
      ]
     },
     "metadata": {},
     "output_type": "display_data"
    },
    {
     "data": {
      "application/vnd.jupyter.widget-view+json": {
       "model_id": "",
       "version_major": 2,
       "version_minor": 0
      },
      "text/plain": [
       "FloatProgress(value=0.0, bar_style='info', description='Progress:', layout=Layout(height='25px', width='50%'),…"
      ]
     },
     "metadata": {},
     "output_type": "display_data"
    },
    {
     "name": "stdout",
     "output_type": "stream",
     "text": [
      "Trip Count:  7667792"
     ]
    }
   ],
   "source": [
    "trips_small, lookup_small = load_data(size='small')"
   ]
  },
  {
   "cell_type": "code",
   "execution_count": 338,
   "metadata": {
    "execution": {
     "iopub.execute_input": "2022-10-31T06:43:02.723726Z",
     "iopub.status.busy": "2022-10-31T06:43:02.723312Z",
     "iopub.status.idle": "2022-10-31T06:43:16.073182Z",
     "shell.execute_reply": "2022-10-31T06:43:16.072544Z",
     "shell.execute_reply.started": "2022-10-31T06:43:02.723686Z"
    },
    "tags": []
   },
   "outputs": [
    {
     "data": {
      "application/vnd.jupyter.widget-view+json": {
       "model_id": "7a0324629a8c4fe29b7c18c771717229",
       "version_major": 2,
       "version_minor": 0
      },
      "text/plain": [
       "VBox()"
      ]
     },
     "metadata": {},
     "output_type": "display_data"
    },
    {
     "data": {
      "application/vnd.jupyter.widget-view+json": {
       "model_id": "",
       "version_major": 2,
       "version_minor": 0
      },
      "text/plain": [
       "FloatProgress(value=0.0, bar_style='info', description='Progress:', layout=Layout(height='25px', width='50%'),…"
      ]
     },
     "metadata": {},
     "output_type": "display_data"
    },
    {
     "name": "stdout",
     "output_type": "stream",
     "text": [
      "+--------------------+-------------+------------------+\n",
      "|                Zone|      Borough|   weighted_profit|\n",
      "+--------------------+-------------+------------------+\n",
      "|Arrochar/Fort Wad...|Staten Island|31.784444444433333|\n",
      "|     Freshkills Park|Staten Island|           29.3425|\n",
      "|       Port Richmond|Staten Island|24.357777777766664|\n",
      "|Flushing Meadows-...|       Queens|24.330137731667936|\n",
      "|        Baisley Park|       Queens| 23.62469433348418|\n",
      "|     Randalls Island|    Manhattan| 23.12457751515951|\n",
      "|       South Jamaica|       Queens| 22.17411493945043|\n",
      "|     Mariners Harbor|Staten Island|21.786556927288885|\n",
      "|Saint George/New ...|Staten Island|21.491893491126923|\n",
      "|       Arden Heights|Staten Island|          20.29625|\n",
      "|        Astoria Park|       Queens|19.965360000000004|\n",
      "|   LaGuardia Airport|       Queens|17.923153949607844|\n",
      "|  Murray Hill-Queens|       Queens|17.585450424363888|\n",
      "|         JFK Airport|       Queens|16.958978201182898|\n",
      "|             Jamaica|       Queens|14.879835188768674|\n",
      "|Governor's Island...|    Manhattan|          14.79625|\n",
      "|        Country Club|        Bronx|14.613195266261538|\n",
      "|Springfield Garde...|       Queens|14.337175219417976|\n",
      "|             Maspeth|       Queens|13.940437160693254|\n",
      "|Briarwood/Jamaica...|       Queens|13.327861288083156|\n",
      "+--------------------+-------------+------------------+"
     ]
    }
   ],
   "source": [
    "trips_small = long_trips(trips_small)\n",
    "mtrips_small = manhattan_trips(trips_small, lookup_small)\n",
    "wp_small = weighted_profit(trips_small, mtrips_small)\n",
    "final = final_output(wp_small, lookup_small)\n",
    "final.show()"
   ]
  }
 ],
 "metadata": {
  "kernelspec": {
   "display_name": "Python 3",
   "language": "python",
   "name": "python3"
  },
  "language_info": {
   "codemirror_mode": {
    "name": "python",
    "version": 3
   },
   "file_extension": ".py",
   "mimetype": "text/x-python",
   "name": "python",
   "pygments_lexer": "python3",
   "version": "3.10.9"
  },
  "vscode": {
   "interpreter": {
    "hash": "b0fa6594d8f4cbf19f97940f81e996739fb7646882a419484c72d19e05852a7e"
   }
  }
 },
 "nbformat": 4,
 "nbformat_minor": 4
}
